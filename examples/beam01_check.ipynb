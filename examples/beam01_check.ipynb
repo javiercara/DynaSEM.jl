{
 "cells": [
  {
   "cell_type": "markdown",
   "metadata": {},
   "source": [
    "# Checking model01\n",
    "\n",
    "Javier Cara\n",
    "\n",
    "The objective is to compare analitical values with numerical values."
   ]
  },
  {
   "cell_type": "markdown",
   "metadata": {},
   "source": [
    "## Analitical natural frequencies $\\omega_n$\n",
    "\n",
    "Ref: \"Dynamic os Structures\", Second Edition, Ray Clough and Joseph Penzien. Chapter 18. \n",
    "\n",
    "$$ \\omega_n = (n \\pi)^2 \\sqrt{\\frac{EI}{\\rho A L^4} } \\quad (rad/s), \\quad n=1,2,\\cdots $$\n",
    "\n",
    "where\n",
    "- E: elasticity modulus\n",
    "- I: second moment of inertia\n",
    "- $\\rho$: material density\n",
    "- A: section area\n",
    "- L: beam length\n",
    "\n",
    "Let us consider the following values:\n",
    "- Material: steel\n",
    " - E = 2.1e11 N/m2\n",
    " - $\\rho$ = 7850 kg/m3\n",
    "- Beam section: rectangular, b = 2.00 m , h = 0.20 m\n",
    " - A = b*h\n",
    " - I = 1/12*b*h^3\n",
    "- L = 20 m\n"
   ]
  },
  {
   "cell_type": "code",
   "execution_count": 1,
   "metadata": {
    "collapsed": false
   },
   "outputs": [
    {
     "data": {
      "text/plain": [
       "20.0"
      ]
     },
     "execution_count": 1,
     "metadata": {},
     "output_type": "execute_result"
    }
   ],
   "source": [
    "# material\n",
    "E = 2.1e11\n",
    "rho = 7850.0\n",
    "\n",
    "# section\n",
    "b = 2.00\n",
    "h = 0.20\n",
    "I = 1/12*b*h^3\n",
    "A = b*h\n",
    "\n",
    "# length\n",
    "L = 20.0"
   ]
  },
  {
   "cell_type": "code",
   "execution_count": 2,
   "metadata": {
    "collapsed": false
   },
   "outputs": [
    {
     "name": "stdout",
     "output_type": "stream",
     "text": [
      "[7.36807,29.4723,66.3127,117.889,184.202]\n",
      "[1.17267,4.69066,10.554,18.7626,29.3166]\n"
     ]
    }
   ],
   "source": [
    "# wn=(n*pi)^2*sqrt(E*I/(rho*A*L^4)\n",
    "wn = zeros(5)\n",
    "for n = 1:5\n",
    "\twn[n] = (n*pi)^2*sqrt(E*I/(rho*A*L^4))\n",
    "end\n",
    "println(wn)\n",
    "\n",
    "# in hertz\n",
    "fn = wn/(2*pi)\n",
    "println(fn)"
   ]
  },
  {
   "cell_type": "markdown",
   "metadata": {},
   "source": [
    "## Numerical natural frequencies\n",
    "\n",
    "Let us consider 18 Hertime elements and spring constants k1 = k2 = 100EI (model01 in beam2D package). \n",
    "\n",
    "The natural frequencies are the square root of the generalized eigenvalue problem\n",
    "\n",
    "$$ (K - M\\omega_n^2) v_n = 0$$\n",
    "\n",
    "where\n",
    "- K: stiffness matrix\n",
    "- M: mass matrix"
   ]
  },
  {
   "cell_type": "code",
   "execution_count": 3,
   "metadata": {
    "collapsed": true
   },
   "outputs": [],
   "source": [
    "using DynaSEM"
   ]
  },
  {
   "cell_type": "code",
   "execution_count": 4,
   "metadata": {
    "collapsed": false
   },
   "outputs": [
    {
     "data": {
      "text/plain": [
       "(\n",
       "[3.04494e10 1.3608e9 … 0.0 0.0; 1.3608e9 1.008e9 … 0.0 0.0; … ; 0.0 0.0 … 3.04494e10 -1.3608e9; 0.0 0.0 … -1.3608e9 1.008e9],\n",
       "\n",
       "[1295.87 203.057 … 0.0 0.0; 203.057 41.0216 … 0.0 0.0; … ; 0.0 0.0 … 1295.87 -203.057; 0.0 0.0 … -203.057 41.0216])"
      ]
     },
     "execution_count": 4,
     "metadata": {},
     "output_type": "execute_result"
    }
   ],
   "source": [
    "# number of elements\n",
    "ne = 18\n",
    "\n",
    "# spring constants\n",
    "k1 = 100*E*I\n",
    "k2 = 100*E*I\n",
    "\n",
    "# mass and stiffness matrices\n",
    "K,M = beam01(E,rho,A,I,L,ne,k1,k2)"
   ]
  },
  {
   "cell_type": "code",
   "execution_count": 5,
   "metadata": {
    "collapsed": false
   },
   "outputs": [
    {
     "name": "stdout",
     "output_type": "stream",
     "text": [
      "[7.3679,29.4697,66.3014,117.862,184.161]\n"
     ]
    }
   ],
   "source": [
    "# eigenvalues and eigenvectors\n",
    "D,V = eig(K,M)\n",
    "W = sqrt(D)\n",
    "println(W[1:5])"
   ]
  },
  {
   "cell_type": "code",
   "execution_count": null,
   "metadata": {
    "collapsed": false
   },
   "outputs": [],
   "source": []
  }
 ],
 "metadata": {
  "anaconda-cloud": {},
  "kernelspec": {
   "display_name": "Julia 0.5.0",
   "language": "julia",
   "name": "julia-0.5"
  },
  "language_info": {
   "file_extension": ".jl",
   "mimetype": "application/julia",
   "name": "julia",
   "version": "0.5.0"
  }
 },
 "nbformat": 4,
 "nbformat_minor": 1
}
